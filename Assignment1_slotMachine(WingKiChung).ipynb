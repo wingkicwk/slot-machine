{
 "cells": [
  {
   "cell_type": "code",
   "execution_count": null,
   "metadata": {},
   "outputs": [],
   "source": [
    "def run_slot_machine():\n",
    "        print(\"========= SLOT MACHINE =========\")\n",
    "        print(\"Minimum bet is 2. Type 'N' to exit.\")\n",
    "        print('you have: 10.00') #prints initial balance \n",
    "        slot = Slot() #set variable for class Slot \n",
    "        purse = Purse() #set variable for class purse \n",
    "        slot.take_bet() #call take_bet method from Slot class to prompt the user for first bet\n",
    "        \n",
    "#         while balance in purse is larger than 2 and user does not input N\n",
    "        while purse.balance >= 2 and slot.bet != \"N\":\n",
    "            if type(slot.bet) == str:\n",
    "                slot.take_bet() #prompt the user for another bet if bet is a string\n",
    "            else:\n",
    "                while purse.balance >= 2:\n",
    "#                     make sure bet is larger than 2 and small than balance, anotherwise have to input again\n",
    "                    if slot.bet < 2 or slot.bet > purse.balance:\n",
    "                        slot.take_bet()   #prompt the user for another bet if bet <2 or bet>balance\n",
    "                    else:\n",
    "                        purse.debit(slot.bet) #take the amount of bet out of purse \n",
    "                        slot.pull_handle() #pull handle to change faces\n",
    "                        slot.show_slot()   #show faces\n",
    "                        slot.score_slot() #calculate and show score\n",
    "                        purse.credit(slot.score)  #add score to purse\n",
    "                        purse.get_balance()   # get the balance amount in purse\n",
    "                    if purse.balance >= 2:\n",
    "                        slot.take_bet()\n",
    "                        #if after playing a round, balance in purse still larger than or equals to 2, than play another round\n",
    "                    break\n",
    "        # when balance is small than 2 or user input N, end game, show the final balance \n",
    "        print('Thank you for playing.')\n",
    "        print('You are leaving with %.2f '% purse.balance+'.')\n",
    "                        "
   ]
  },
  {
   "cell_type": "code",
   "execution_count": null,
   "metadata": {},
   "outputs": [],
   "source": [
    "class Purse():\n",
    "    def __init__(self):\n",
    "        self.balance=10 #set initial balance to 10\n",
    "        self.slot = Slot()\n",
    "    def debit(self,DEBIT):\n",
    "#         make a debit and take out certain amount from balance\n",
    "        self.balance -= DEBIT\n",
    "    def credit(self,CREDIT):\n",
    "#         make a credit and put in certain amount from balance\n",
    "        self.balance += CREDIT\n",
    "    def get_balance(self):\n",
    "        if self.balance >=2:\n",
    "            print('you have: %.2f'%self.balance)\n",
    "        else:\n",
    "#             balance must be at least 2 or game over\n",
    "            pass\n"
   ]
  },
  {
   "cell_type": "code",
   "execution_count": null,
   "metadata": {},
   "outputs": [],
   "source": [
    "class Column():\n",
    "    def __init__(self):\n",
    "#         all face column are initially empty \n",
    "          self.face=''\n",
    "\n",
    "    def change_face(self): \n",
    "#         import emoji and ramdom choice \n",
    "        import emoji\n",
    "        from random import choice\n",
    "        from random import random\n",
    "        from random import choice\n",
    "#         get 3 faces from emoji\n",
    "        faces = [emoji.emojize(':red_apple:'),\n",
    "        emoji.emojize(':pear:'),\n",
    "        emoji.emojize(':tangerine:') ]\n",
    "#         give random face\n",
    "        self.face=choice(faces)\n",
    "\n"
   ]
  },
  {
   "cell_type": "code",
   "execution_count": null,
   "metadata": {},
   "outputs": [],
   "source": [
    "class Slot():\n",
    "    def __init__(self):\n",
    "#         3 column per slot\n",
    "        self.r1 = Column()\n",
    "        self.r2 = Column()\n",
    "        self.r3 = Column()\n",
    "\n",
    "    def pull_handle(self):\n",
    "#         when pull handle the faces of 3 columns change randomly\n",
    "        self.r1.change_face()\n",
    "        self.r2.change_face()\n",
    "        self.r3.change_face()\n",
    "    \n",
    "    def show_slot(self):\n",
    "#         show the faces after pulling the handle \n",
    "        print(\"%s %s %s\"%(self.r1.face, self.r2.face, self.r3.face))\n",
    "        \n",
    "    def take_bet(self):\n",
    "        self.bet = input('How much do you bet: ')\n",
    "#         promt the user for a bet\n",
    "        try:\n",
    "#         try if it is possible to parse brt to integer  \n",
    "            self.bet=int(self.bet)\n",
    "        except:\n",
    "#             if it is not do nothing\n",
    "            pass\n",
    "\n",
    "\n",
    "\n",
    "    def score_slot(self):\n",
    "#         cacluate the score\n",
    "        self.score = 0  \n",
    "# initial score is 0\n",
    "        if self.r1.face == self.r2.face == self.r3.face:\n",
    "            self.score = self.bet*2\n",
    "#             if 3 faces are equal, then score is double of bet\n",
    "            print('You score', self.score, '- ', end ='')\n",
    "        elif self.r1.face != self.r2.face != self.r3.face and self.r1.face != self.r3.face:\n",
    "            self.score = 0\n",
    "# if 3 faces all different, then zero score\n",
    "            print('You score', self.score, '- ', end ='')\n",
    "        else:\n",
    "            self.score = self.bet/2+self.bet\n",
    "#             if two faces are equal, then earn 150% of bet as score\n",
    "            print('You score', self.score, '- ', end ='')\n",
    "\n",
    "    \n"
   ]
  },
  {
   "cell_type": "code",
   "execution_count": null,
   "metadata": {
    "scrolled": true
   },
   "outputs": [],
   "source": [
    "run_slot_machine()"
   ]
  },
  {
   "cell_type": "code",
   "execution_count": null,
   "metadata": {},
   "outputs": [],
   "source": []
  }
 ],
 "metadata": {
  "kernelspec": {
   "display_name": "Python 3",
   "language": "python",
   "name": "python3"
  },
  "language_info": {
   "codemirror_mode": {
    "name": "ipython",
    "version": 3
   },
   "file_extension": ".py",
   "mimetype": "text/x-python",
   "name": "python",
   "nbconvert_exporter": "python",
   "pygments_lexer": "ipython3",
   "version": "3.7.3"
  }
 },
 "nbformat": 4,
 "nbformat_minor": 2
}
